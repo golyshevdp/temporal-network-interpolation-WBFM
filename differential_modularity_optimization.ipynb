{
  "nbformat": 4,
  "nbformat_minor": 0,
  "metadata": {
    "colab": {
      "name": "differential_modularity_optimization.ipynb",
      "provenance": [],
      "collapsed_sections": []
    },
    "kernelspec": {
      "name": "python3",
      "display_name": "Python 3"
    },
    "language_info": {
      "name": "python"
    }
  },
  "cells": [
    {
      "cell_type": "code",
      "execution_count": null,
      "metadata": {
        "id": "NYaM7jHcHL-r"
      },
      "outputs": [],
      "source": [
        "from datetime import datetime\n",
        "import pandas as pd\n",
        "import numpy as np\n",
        "import matplotlib.pyplot as plt\n",
        "\n",
        "from networkx import from_numpy_matrix, to_numpy_matrix, set_node_attributes\n",
        "\n",
        "from tqdm.notebook import tqdm\n",
        "from datetime import datetime\n",
        "\n",
        "from custom_metrics import calculate_modularity, interpolation_quality\n",
        "from graph_generator import generate_time_series, generate_random_mu\n",
        "from interpolation import interpolate_time_series, interpolate_single_graph\n",
        "\n",
        "from custom_modularity import custom_modularity"
      ]
    },
    {
      "cell_type": "code",
      "source": [
        "G1, G2 = generate_time_series([0.3, 0.4])\n",
        "t1, t, t2 = 0, 1, 2\n",
        "\n",
        "G = interpolate_single_graph(G1, G2, t1, t2, t)"
      ],
      "metadata": {
        "id": "hY-6feyksMOR"
      },
      "execution_count": null,
      "outputs": []
    },
    {
      "cell_type": "code",
      "source": [
        "alpha = (t - t1) / (t2 - t1) if t2 != t1 else 0"
      ],
      "metadata": {
        "id": "tMGwN8Rpt3hZ"
      },
      "execution_count": null,
      "outputs": []
    },
    {
      "cell_type": "markdown",
      "source": [
        "Функция, расчитывающая разницу между модулярностью в момент времени $t$ и линейной комбинацией модулярностей в моменты времени $t-1$ и $t+1$:\n",
        "$$f = Q_t - (1-α)Q_{t-1} - \\alpha Q_{t+1}$$"
      ],
      "metadata": {
        "id": "NfcsIV7WpDV0"
      }
    },
    {
      "cell_type": "code",
      "source": [
        "from custom_modularity import calculate_k, calculate_Q, calculate_delta"
      ],
      "metadata": {
        "id": "e99asT-Aqm7q"
      },
      "execution_count": null,
      "outputs": []
    },
    {
      "cell_type": "code",
      "source": [
        "def difference_in_modularity(A, n, delta, Q1, Q2, alpha):\n",
        "    k = calculate_k(A, n)\n",
        "    Q = calculate_Q(A, k, n, delta)\n",
        "\n",
        "    return abs(Q - (1-alpha)*Q1 - alpha*Q2)"
      ],
      "metadata": {
        "id": "YI4TPWVtHVWi"
      },
      "execution_count": null,
      "outputs": []
    },
    {
      "cell_type": "markdown",
      "source": [
        "Согласно теории, эта величина должна быть равной дифференциальной модулярности"
      ],
      "metadata": {
        "id": "Auf4rXqVr3rj"
      }
    },
    {
      "cell_type": "code",
      "source": [
        "from custom_modularity import calculate_differential_modularity"
      ],
      "metadata": {
        "id": "x2oVznXfuCKX"
      },
      "execution_count": null,
      "outputs": []
    },
    {
      "cell_type": "code",
      "source": [
        "A = to_numpy_matrix(G)\n",
        "n = A.shape[0]\n",
        "\n",
        "communities = {frozenset(G.nodes[v][\"community\"]) for v in G}\n",
        "delta = calculate_delta(communities, n)\n",
        "\n",
        "Q1 = custom_modularity(G1)\n",
        "Q2 = custom_modularity(G2)\n",
        "\n",
        "print(difference_in_modularity(A, n, delta, Q1, Q2, alpha))\n",
        "print(calculate_differential_modularity(G1, G2, alpha))"
      ],
      "metadata": {
        "id": "Ewcyn4PCsBag",
        "colab": {
          "base_uri": "https://localhost:8080/"
        },
        "outputId": "f74c6a0b-8e8e-4f48-8196-3de89ab869a3"
      },
      "execution_count": null,
      "outputs": [
        {
          "output_type": "stream",
          "name": "stdout",
          "text": [
            "0.0005037250699915369\n",
            "0.000503725069991633\n"
          ]
        }
      ]
    },
    {
      "cell_type": "markdown",
      "source": [
        "Модифицируем процесс интерполяции: после вычисления весов как линейной комбинации будем добавлять величину X, после чего выполним нормализацию"
      ],
      "metadata": {
        "id": "gh106Kf1v81d"
      }
    },
    {
      "cell_type": "code",
      "source": [
        "X = np.mean(A) + np.zeros((n, n))"
      ],
      "metadata": {
        "id": "YIcmhztPxLx0"
      },
      "execution_count": null,
      "outputs": []
    },
    {
      "cell_type": "code",
      "source": [
        "A_new = A + X\n",
        "m = np.sum(A_new) / 2\n",
        "A_new = A_new / m"
      ],
      "metadata": {
        "id": "OfFmqR7PuOXw"
      },
      "execution_count": null,
      "outputs": []
    },
    {
      "cell_type": "code",
      "source": [
        "difference_in_modularity(A_new, n, delta, Q1, Q2, alpha)"
      ],
      "metadata": {
        "colab": {
          "base_uri": "https://localhost:8080/"
        },
        "id": "_74Z2Sg1w7Nl",
        "outputId": "e2adb14c-3c87-4218-ba37-dec9135f938a"
      },
      "execution_count": null,
      "outputs": [
        {
          "output_type": "execute_result",
          "data": {
            "text/plain": [
              "0.03824370510936449"
            ]
          },
          "metadata": {},
          "execution_count": 37
        }
      ]
    },
    {
      "cell_type": "markdown",
      "source": [
        "Видим, что разница изменилась. Теперь будем оптимизировать величину разницу в модулярности в зависимости от X"
      ],
      "metadata": {
        "id": "OmvhYI4NxY1l"
      }
    },
    {
      "cell_type": "code",
      "source": [
        "from scipy.optimize import dual_annealing, differential_evolution"
      ],
      "metadata": {
        "id": "i2PJap401Ker"
      },
      "execution_count": null,
      "outputs": []
    },
    {
      "cell_type": "code",
      "source": [
        "from custom_modularity import custom_modularity, calculate_k, calculate_Q, calculate_delta\n",
        "from scipy.optimize import dual_annealing\n",
        "\n",
        "\n",
        "Q1 = custom_modularity(G1)\n",
        "Q2 = custom_modularity(G2)\n",
        "Q_diff = calculate_differential_modularity(G1, G2, alpha)\n",
        "\n",
        "A = to_numpy_matrix(G)\n",
        "n = A.shape[0]\n",
        "A = A.reshape(n**2)\n",
        "\n",
        "communities = {frozenset(G.nodes[v][\"community\"]) for v in G}\n",
        "delta = calculate_delta(communities, n)\n",
        "\n",
        "def difference_in_modularity(A, n, delta, Q1, Q2, alpha):\n",
        "    k = calculate_k(A, n)\n",
        "    Q = calculate_Q(A, k, n, delta)\n",
        "\n",
        "    return abs(Q - (1-alpha)*Q1 - alpha*Q2)\n",
        "\n",
        "def f_target(X, A, n, delta, Q1, Q2, alpha=0.5):\n",
        "    A_new = A + X\n",
        "    m = np.sum(A_new) / 2\n",
        "    A_new = A_new / m\n",
        "\n",
        "    A_new = A_new.reshape(n, n)\n",
        "\n",
        "    return difference_in_modularity(A_new, n, delta, Q1, Q2, alpha)\n",
        "\n",
        "\n",
        "optimization_stat = []\n",
        "def callback(x, f, context):\n",
        "    optimization_stat.append((datetime.now(), f))\n",
        "\n",
        "    return f < 1e-8\n",
        "\n",
        "left_bound = np.min(A)\n",
        "right_bound = np.max(A)\n",
        "bounds = [(left_bound, right_bound) for _ in range(n**2)]\n",
        "\n",
        "res = dual_annealing(f_target,\n",
        "                     bounds=bounds,\n",
        "                     args=(A, n, delta, Q1, Q2),\n",
        "                     callback=callback,\n",
        "                     maxiter=500\n",
        "                     )"
      ],
      "metadata": {
        "id": "GWPzcCvTxown"
      },
      "execution_count": null,
      "outputs": []
    },
    {
      "cell_type": "code",
      "source": [
        "#pd.DataFrame(res.x, columns=['X']).to_csv('X.csv', index=False)\n",
        "stats = pd.DataFrame({'time': [step[0] for step in optimization_stat], \n",
        "                      'f_value': [step[1] for step in optimization_stat]})\n",
        "stats.to_csv('optimization_stats.csv', index=False)"
      ],
      "metadata": {
        "id": "2yXzyTX0l7ab"
      },
      "execution_count": null,
      "outputs": []
    },
    {
      "cell_type": "code",
      "source": [
        "plt.rcParams['figure.figsize'] = [10, 5]\n",
        "stats.plot(x='time', y='f_value')"
      ],
      "metadata": {
        "colab": {
          "base_uri": "https://localhost:8080/",
          "height": 371
        },
        "id": "hLNLLm9Kefx2",
        "outputId": "1e84cf61-f42a-4234-8494-11893b1c1c7d"
      },
      "execution_count": null,
      "outputs": [
        {
          "output_type": "execute_result",
          "data": {
            "text/plain": [
              "<matplotlib.axes._subplots.AxesSubplot at 0x7f2ec57d91d0>"
            ]
          },
          "metadata": {},
          "execution_count": 46
        },
        {
          "output_type": "display_data",
          "data": {
            "text/plain": [
              "<Figure size 720x360 with 1 Axes>"
            ],
            "image/png": "[encoded data removed]"
          },
          "metadata": {
            "needs_background": "light"
          }
        }
      ]
    },
    {
      "cell_type": "code",
      "source": [
        "A_new = A.reshape(n, n) + res.x.reshape(n, n)\n",
        "m = np.sum(A_new) / 2\n",
        "A_new = A_new / m\n",
        "G_new = from_numpy_matrix(A_new)\n",
        "\n",
        "com_dict = dict([(v, G.nodes[v][\"community\"]) for v in G])\n",
        "set_node_attributes(G_new, com_dict, \"community\")\n",
        "\n",
        "k = calculate_k(A_new, n)\n",
        "Q = calculate_Q(A_new, k, n, delta)"
      ],
      "metadata": {
        "id": "XOe4Oxo-mP2w"
      },
      "execution_count": null,
      "outputs": []
    },
    {
      "cell_type": "code",
      "source": [
        "difference_in_modularity(A_new, n, delta, Q1, Q2, alpha)"
      ],
      "metadata": {
        "colab": {
          "base_uri": "https://localhost:8080/"
        },
        "id": "xVgJ7cBZoJYF",
        "outputId": "d7cbacf8-8f7f-4f64-b89d-5906ea414ab5"
      },
      "execution_count": null,
      "outputs": [
        {
          "output_type": "execute_result",
          "data": {
            "text/plain": [
              "1.557420026276901e-10"
            ]
          },
          "metadata": {},
          "execution_count": 71
        }
      ]
    }
  ]
}